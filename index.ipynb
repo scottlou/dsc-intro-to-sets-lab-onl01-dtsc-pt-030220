{
 "cells": [
  {
   "cell_type": "markdown",
   "metadata": {},
   "source": [
    "# Introduction to Sets - Lab\n",
    "\n",
    "## Introduction\n",
    "\n",
    "Probability theory is all around. A common example is in the game of poker or related card games, where players try to calculate the probability of winning a round given the cards they have in their hands. Also, in a business context, probabilities play an important role. Operating in a volatile economy, companies need to take uncertainty into account and this is exactly where probability theory plays a role.\n",
    "\n",
    "As mentioned in the lesson before, a good understanding of probability starts with understanding of sets and set operations. That's exactly what you'll learn in this lab!\n",
    "\n",
    "## Objectives\n",
    "\n",
    "You will be able to:\n",
    "\n",
    "* Use Python to perform set operations\n",
    "* Use Python to demonstrate the inclusion/exclusion principle\n",
    "\n",
    "\n",
    "## Exploring Set Operations Using a Venn Diagram\n",
    "\n",
    "Let's start with a pretty conceptual example. Let's consider the following sets:\n",
    "\n",
    "   - $\\Omega$ = positive integers between [1, 12]\n",
    "   - $A$= even numbers between [1, 10]\n",
    "   - $B = \\{3,8,11,12\\}$\n",
    "   - $C = \\{2,3,6,8,9,11\\}$\n",
    "    \n",
    "\n",
    "#### a. Illustrate all the sets in a Venn Diagram like the one below. The rectangular shape represents the universal set.\n",
    "\n",
    "<img src=\"./images/venn_diagr.png\" width=\"600\">\n"
   ]
  },
  {
   "cell_type": "markdown",
   "metadata": {},
   "source": [
    "#### b. Using your Venn Diagram, list the elements in each of the following sets:\n",
    "\n",
    "- $ A \\cap B$\n",
    "- $ A \\cup C$\n",
    "- $A^c$ \n",
    "- The absolute complement of B\n",
    "- $(A \\cup B)^c$\n",
    "- $B \\cap C'$\n",
    "- $A\\backslash B$\n",
    "- $C \\backslash (B \\backslash A)$ \n",
    "- $(C \\cap A) \\cup (C \\backslash B)$"
   ]
  },
  {
   "cell_type": "markdown",
   "metadata": {},
   "source": [
    "\n",
    "        \n",
    "        \n",
    "#### c. For the remainder of this exercise, let's  create sets A, B and C and universal set U in Python and test out the results you came up with. Sets are easy to create in Python. For a guide to the syntax, follow some of the documentation [here](https://www.w3schools.com/python/python_sets.asp)"
   ]
  },
  {
   "cell_type": "code",
   "execution_count": 4,
   "metadata": {},
   "outputs": [
    {
     "data": {
      "text/plain": [
       "\"Type A: <class 'set'>, A: {2, 4, 6, 8, 10}\""
      ]
     },
     "execution_count": 4,
     "metadata": {},
     "output_type": "execute_result"
    }
   ],
   "source": [
    "# Create set A\n",
    "A = {2,4,6,8,10}\n",
    "'Type A: {}, A: {}'.format(type(A), A) # \"Type A: <class 'set'>, A: {2, 4, 6, 8, 10}\""
   ]
  },
  {
   "cell_type": "code",
   "execution_count": 5,
   "metadata": {},
   "outputs": [
    {
     "data": {
      "text/plain": [
       "\"Type B: <class 'set'>, B: {8, 3, 11, 12}\""
      ]
     },
     "execution_count": 5,
     "metadata": {},
     "output_type": "execute_result"
    }
   ],
   "source": [
    "# Create set B\n",
    "B = {8,11,3,12}\n",
    "'Type B: {}, B: {}'.format(type(B), B) # \"Type B: <class 'set'>, B: {8, 11, 3, 12}\""
   ]
  },
  {
   "cell_type": "code",
   "execution_count": 6,
   "metadata": {},
   "outputs": [
    {
     "data": {
      "text/plain": [
       "\"Type C: <class 'set'>, C: {2, 3, 6, 8, 9, 11}\""
      ]
     },
     "execution_count": 6,
     "metadata": {},
     "output_type": "execute_result"
    }
   ],
   "source": [
    "# Create set C\n",
    "C = {2,3,6,8,9,11}\n",
    "'Type C: {}, C: {}'.format(type(C), C) # \"Type C: <class 'set'>, C: {2, 3, 6, 8, 9, 11}\""
   ]
  },
  {
   "cell_type": "code",
   "execution_count": 12,
   "metadata": {},
   "outputs": [
    {
     "data": {
      "text/plain": [
       "\"Type U: <class 'set'>, U: {1, 2, 3, 4, 5, 6, 7, 8, 9, 10, 11, 12}\""
      ]
     },
     "execution_count": 12,
     "metadata": {},
     "output_type": "execute_result"
    }
   ],
   "source": [
    "# Create universal set U\n",
    "U = {1,2,3,4,5,6,7,8,9,10,11,12}\n",
    "'Type U: {}, U: {}'.format(type(U), U) # \"Type U: <class 'set'>, U: {1, 2, 3, 4, 5, 6, 7, 8, 9, 10, 11, 12}\""
   ]
  },
  {
   "cell_type": "markdown",
   "metadata": {},
   "source": [
    "Now, verify your answers in section 1 by using the correct methods in Python. To provide a little bit of help, you can find a table with common operations on sets below.\n",
    "\n",
    "| Method        |\tEquivalent |\tResult |\n",
    "| ------                    | ------       | ------    |\n",
    "| s.issubset(t)             |\ts <= t     | test whether every element in s is in t\n",
    "| s.issuperset(t)           |\ts >= t     | test whether every element in t is in s\n",
    "| s.union(t)                |\ts $\\mid$ t | new set with elements from both s and t\n",
    "| s.intersection(t)         |\ts & t      | new set with elements common to s and t\n",
    "| s.difference(t)           |\ts - t \t   | new set with elements in s but not in t\n",
    "| s.symmetric_difference(t) |\ts ^ t      | new set with elements in either s or t but not both"
   ]
  },
  {
   "cell_type": "markdown",
   "metadata": {},
   "source": [
    "#### 1. $ A \\cap B$"
   ]
  },
  {
   "cell_type": "code",
   "execution_count": 8,
   "metadata": {},
   "outputs": [
    {
     "data": {
      "text/plain": [
       "{8}"
      ]
     },
     "execution_count": 8,
     "metadata": {},
     "output_type": "execute_result"
    }
   ],
   "source": [
    "A_inters_B =  A.intersection(B)\n",
    "A_inters_B # {8}"
   ]
  },
  {
   "cell_type": "markdown",
   "metadata": {},
   "source": [
    "#### 2. $ A \\cup C $"
   ]
  },
  {
   "cell_type": "code",
   "execution_count": 9,
   "metadata": {},
   "outputs": [
    {
     "data": {
      "text/plain": [
       "{2, 3, 4, 6, 8, 9, 10, 11}"
      ]
     },
     "execution_count": 9,
     "metadata": {},
     "output_type": "execute_result"
    }
   ],
   "source": [
    "A_union_C = A.union(C)\n",
    "A_union_C # {2, 3, 4, 6, 8, 9, 10, 11}"
   ]
  },
  {
   "cell_type": "markdown",
   "metadata": {},
   "source": [
    "#### 3.  $A^c$ (you'll have to be a little creative here!)"
   ]
  },
  {
   "cell_type": "code",
   "execution_count": 14,
   "metadata": {},
   "outputs": [
    {
     "data": {
      "text/plain": [
       "{1, 3, 5, 7, 9, 11, 12}"
      ]
     },
     "execution_count": 14,
     "metadata": {},
     "output_type": "execute_result"
    }
   ],
   "source": [
    "A_comp = U.difference(A)\n",
    "A_comp # {1, 3, 5, 7, 9, 11, 12}"
   ]
  },
  {
   "cell_type": "markdown",
   "metadata": {},
   "source": [
    "#### 4.  $(A \\cup B)^c $"
   ]
  },
  {
   "cell_type": "code",
   "execution_count": 15,
   "metadata": {},
   "outputs": [
    {
     "data": {
      "text/plain": [
       "{1, 5, 7, 9}"
      ]
     },
     "execution_count": 15,
     "metadata": {},
     "output_type": "execute_result"
    }
   ],
   "source": [
    "A_union_B_comp = U.difference(A.union(B))\n",
    "A_union_B_comp # {1, 5, 7, 9}"
   ]
  },
  {
   "cell_type": "markdown",
   "metadata": {},
   "source": [
    "#### 5. $B \\cap C' $"
   ]
  },
  {
   "cell_type": "code",
   "execution_count": 16,
   "metadata": {},
   "outputs": [
    {
     "data": {
      "text/plain": [
       "{12}"
      ]
     },
     "execution_count": 16,
     "metadata": {},
     "output_type": "execute_result"
    }
   ],
   "source": [
    "B_inters_C_comp = B.intersection(U.difference(C))\n",
    "B_inters_C_comp # {12}"
   ]
  },
  {
   "cell_type": "markdown",
   "metadata": {},
   "source": [
    "#### 6. $A\\backslash B$"
   ]
  },
  {
   "cell_type": "code",
   "execution_count": 17,
   "metadata": {},
   "outputs": [
    {
     "data": {
      "text/plain": [
       "{2, 4, 6, 10}"
      ]
     },
     "execution_count": 17,
     "metadata": {},
     "output_type": "execute_result"
    }
   ],
   "source": [
    "compl_of_B = A.difference(B)\n",
    "compl_of_B # {2, 4, 6, 10}"
   ]
  },
  {
   "cell_type": "markdown",
   "metadata": {},
   "source": [
    "#### 7. $C \\backslash (B \\backslash A) $"
   ]
  },
  {
   "cell_type": "code",
   "execution_count": 18,
   "metadata": {},
   "outputs": [
    {
     "data": {
      "text/plain": [
       "{2, 6, 8, 9}"
      ]
     },
     "execution_count": 18,
     "metadata": {},
     "output_type": "execute_result"
    }
   ],
   "source": [
    "C_compl_B_compl_A = C.difference(B.difference(A))\n",
    "C_compl_B_compl_A # {2, 6, 8, 9}"
   ]
  },
  {
   "cell_type": "markdown",
   "metadata": {},
   "source": [
    "#### 8.  $(C \\cap A) \\cup (C \\backslash B)$"
   ]
  },
  {
   "cell_type": "code",
   "execution_count": 19,
   "metadata": {},
   "outputs": [
    {
     "data": {
      "text/plain": [
       "{2, 6, 8, 9}"
      ]
     },
     "execution_count": 19,
     "metadata": {},
     "output_type": "execute_result"
    }
   ],
   "source": [
    "C_inters_A_union_C_min_B= C.intersection(A).union(C.difference(B))\n",
    "C_inters_A_union_C_min_B # {2, 6, 8, 9}"
   ]
  },
  {
   "cell_type": "markdown",
   "metadata": {},
   "source": [
    "## The Inclusion Exclusion Principle"
   ]
  },
  {
   "cell_type": "markdown",
   "metadata": {},
   "source": [
    "Use A, B and C from exercise one to verify the inclusion exclusion principle in Python. \n",
    "You can use the sets A, B and C as used in the previous exercise. \n",
    "\n",
    "Recall from the previous lesson that:\n",
    "\n",
    "$$\\mid A \\cup B\\cup C\\mid = \\mid A \\mid + \\mid B \\mid + \\mid C \\mid - \\mid A \\cap B \\mid  -\\mid A \\cap C \\mid - \\mid B \\cap C \\mid  + \\mid A \\cap B \\cap C \\mid $$\n",
    "\n",
    "Combining these main commands:\n",
    "\n",
    "| Method        |\tEquivalent |\tResult |\n",
    "| ------                    | ------       | ------    |\n",
    "| a.union(b)                |\tA $\\mid$ B | new set with elements from both a and b\n",
    "| a.intersection(b)         |\tA & B      | new set with elements common to a and b\n",
    "\n",
    "along with the `len(x)` function to get to the cardinality of a given x (\"|x|\").\n",
    "\n",
    "What you'll do is translate the left hand side of the equation for the inclusion principle in the object `left_hand_eq`, and the right hand side in the object `right_hand_eq` and see if the results are the same.\n"
   ]
  },
  {
   "cell_type": "code",
   "execution_count": 25,
   "metadata": {},
   "outputs": [
    {
     "name": "stdout",
     "output_type": "stream",
     "text": [
      "9\n"
     ]
    }
   ],
   "source": [
    "left_hand_eq = len(A|B|C)\n",
    "print(left_hand_eq)  # 9 elements in the set"
   ]
  },
  {
   "cell_type": "code",
   "execution_count": 26,
   "metadata": {},
   "outputs": [
    {
     "name": "stdout",
     "output_type": "stream",
     "text": [
      "9\n"
     ]
    }
   ],
   "source": [
    "right_hand_eq = len(A) + len(B) + len(C) - len(A&B) - len(A&C) - len(B&C) + len(A&B&C)\n",
    "print(right_hand_eq) # 9 elements in the set"
   ]
  },
  {
   "cell_type": "code",
   "execution_count": 27,
   "metadata": {},
   "outputs": [
    {
     "data": {
      "text/plain": [
       "True"
      ]
     },
     "execution_count": 27,
     "metadata": {},
     "output_type": "execute_result"
    }
   ],
   "source": [
    "left_hand_eq == right_hand_eq # Use a comparison operator to compare `left_hand_eq` and `right_hand_eq`. Needs to say \"True\"."
   ]
  },
  {
   "cell_type": "markdown",
   "metadata": {},
   "source": [
    "## Set Operations in Python\n",
    "\n",
    "Mary is preparing for a road trip from her hometown, Boston, to Chicago. She has quite a few pets, yet luckily, so do her friends. They try to make sure that they take care of each other's pets while someone is away on a trip. A month ago, each respective person's pet collection was given by the following three sets:"
   ]
  },
  {
   "cell_type": "code",
   "execution_count": 28,
   "metadata": {},
   "outputs": [],
   "source": [
    "Nina = set([\"Cat\",\"Dog\",\"Rabbit\",\"Donkey\",\"Parrot\", \"Goldfish\"])\n",
    "Mary = set([\"Dog\",\"Chinchilla\",\"Horse\", \"Chicken\"])\n",
    "Eve = set([\"Rabbit\", \"Turtle\", \"Goldfish\"])"
   ]
  },
  {
   "cell_type": "markdown",
   "metadata": {},
   "source": [
    "In this exercise, you'll be able to use the following operations:\n",
    "\n",
    "|Operation                          |\tEquivalent |\tResult|\n",
    "| ------                            | ------       | ------   |\n",
    "|s.update(t)                        | \t$s \\mid t$ \t   |return set s with elements added from t|\n",
    "|s.intersection_update(t)           | \ts &= t     |\treturn set s keeping only elements also found in t|\n",
    "|s.difference_update(t)             |\ts -= t \t   |return set s after removing elements found in t|\n",
    "|s.symmetric_difference_update(t)   |\ts ^= t \t   |return set s with elements from s or t but not both|\n",
    "|s.add(x)                           |\t           |\tadd element x to set s|\n",
    "|s.remove(x)                        |\t           |\tremove x from set s|\n",
    "|s.discard(x)                       |\t           |\tremoves x from set s if present|\n",
    "|s.pop()                            | \t           |\tremove and return an arbitrary element from s|\n",
    "|s.clear()            \t            |  \t           |remove all elements from set s|\n",
    "\n",
    "Sadly, Eve's turtle passed away last week. Let's update her pet list accordingly."
   ]
  },
  {
   "cell_type": "code",
   "execution_count": 29,
   "metadata": {},
   "outputs": [
    {
     "data": {
      "text/plain": [
       "{'Goldfish', 'Rabbit'}"
      ]
     },
     "execution_count": 29,
     "metadata": {},
     "output_type": "execute_result"
    }
   ],
   "source": [
    "Eve.remove('Turtle')\n",
    "Eve # should be {'Rabbit', 'Goldfish'}"
   ]
  },
  {
   "cell_type": "markdown",
   "metadata": {},
   "source": [
    "This time around, Nina promised to take care of Mary's pets while she's away. But she also wants to make sure her pets are well taken care of. As Nina is already spending a considerable amount of time taking care of her own pets, adding a few more won't make that much of a difference. Nina does want to update her list while Marie is away. "
   ]
  },
  {
   "cell_type": "code",
   "execution_count": 30,
   "metadata": {},
   "outputs": [
    {
     "data": {
      "text/plain": [
       "{'Cat',\n",
       " 'Chicken',\n",
       " 'Chinchilla',\n",
       " 'Dog',\n",
       " 'Donkey',\n",
       " 'Goldfish',\n",
       " 'Horse',\n",
       " 'Parrot',\n",
       " 'Rabbit'}"
      ]
     },
     "execution_count": 30,
     "metadata": {},
     "output_type": "execute_result"
    }
   ],
   "source": [
    "Nina.update(Mary)\n",
    "Nina # {'Chicken', 'Horse', 'Chinchilla', 'Parrot', 'Rabbit', 'Donkey', 'Dog', 'Cat', 'Goldfish'}"
   ]
  },
  {
   "cell_type": "markdown",
   "metadata": {},
   "source": [
    "Mary, on the other hand, wants to clear her list altogether while away:"
   ]
  },
  {
   "cell_type": "code",
   "execution_count": 31,
   "metadata": {},
   "outputs": [
    {
     "data": {
      "text/plain": [
       "set()"
      ]
     },
     "execution_count": 31,
     "metadata": {},
     "output_type": "execute_result"
    }
   ],
   "source": [
    "Mary.difference_update(Nina)\n",
    "Mary  # set()"
   ]
  },
  {
   "cell_type": "markdown",
   "metadata": {},
   "source": [
    "Look at how many species Nina is taking care of right now."
   ]
  },
  {
   "cell_type": "code",
   "execution_count": 32,
   "metadata": {},
   "outputs": [
    {
     "data": {
      "text/plain": [
       "9"
      ]
     },
     "execution_count": 32,
     "metadata": {},
     "output_type": "execute_result"
    }
   ],
   "source": [
    "n_species_Nina = len(Nina)\n",
    "n_species_Nina # 9"
   ]
  },
  {
   "cell_type": "markdown",
   "metadata": {},
   "source": [
    "Taking care of this many pets is weighing heavily on Nina. She remembered Eve had a smaller collection of pets lately, and that's why she asks Eve to take care of the common species. This way, the extra pets are not a huge effort on Eve's behalf. Let's update Nina's pet collection."
   ]
  },
  {
   "cell_type": "code",
   "execution_count": 33,
   "metadata": {},
   "outputs": [
    {
     "data": {
      "text/plain": [
       "{'Cat', 'Chicken', 'Chinchilla', 'Dog', 'Donkey', 'Horse', 'Parrot'}"
      ]
     },
     "execution_count": 33,
     "metadata": {},
     "output_type": "execute_result"
    }
   ],
   "source": [
    "Nina.difference_update(Eve)\n",
    "Nina # 7"
   ]
  },
  {
   "cell_type": "markdown",
   "metadata": {},
   "source": [
    "Taking care of 7 species is something Nina feels comfortable doing!"
   ]
  },
  {
   "cell_type": "markdown",
   "metadata": {},
   "source": [
    "## Writing Down the Elements in a Set\n",
    "\n",
    "\n",
    "Mary dropped off her Pet's at Nina's house and finally made her way to the highway. Awesome, her vacation has begun!\n",
    "She's approaching an exit. At the end of this particular highway exit, cars can either turn left (L), go straight (S) or turn right (R). It's pretty busy and there are two cars driving close to her. What you'll do now is create several sets. You won't be using Python here, it's sufficient to write the sets down on paper. A good notion of sets and subsets will help you calculate probabilities in the next lab!\n",
    "\n",
    "Note: each set of action is what _all three cars_ are doing at any given time\n",
    "\n",
    "a. Create a set $A$ of all possible outcomes assuming that all three cars drive in the same direction.\n",
    "           \n",
    "b. Create a set $B$ of all possible outcomes assuming that all three cars drive in a different direction.\n",
    "             \n",
    "c. Create a set $C$ of all possible outcomes assuming that exactly 2 cars turn right.\n",
    "            \n",
    "d. Create a set $D$ of all possible outcomes assuming that exactly 2 cars drive in the same direction.\n",
    "\n",
    "                          \n",
    "e. Write down the interpretation and give all possible outcomes for the sets denoted by:\n",
    " - I. $D'$ \n",
    " - II. $C \\cap D$, \n",
    " - III. $C \\cup D$. "
   ]
  },
  {
   "cell_type": "code",
   "execution_count": null,
   "metadata": {},
   "outputs": [],
   "source": [
    "# a. Solution: $A = {(L,L,L); (S,S,S); (R,R,R)}$\n",
    "\n",
    "# b. Solution: $B = {(L,R,S); (L,S,R); (R,L,S); (R,S,L); (S,L,R); (S,R,L)}$\n",
    "\n",
    "# c. Solution: $C= {(L,R,R); (R,L,R); (R,R,L); (S,R,R); (R,S,R); (R,R,S)}$\n",
    "\n",
    "# d. Solution: $D = {(L,R,R); (R,L,R); (R,R,L); (S,R,R); (R,S,R); (R,R,S);\\ \n",
    " #(L,S,S); (S,L,S); (S,S,L); (R,S,S); (S,R,S); (S,S,R); \\ (S,L,L); (L,S,L);\n",
    " #(L,L,S); (R,L,L); (L,R,L); (L,L,R)}$\n",
    "\n",
    "#e.\n",
    "\n",
    "# I. $D'$: all cars go in a different direction, or all go in the same direction. \n",
    "# $D' = {(L,R,S); (L,S,R); (R,L,S); (R,S,L); (S,L,R); (S,R,L); (L,L,L); (S,S,S); (R,R,R)}$\n",
    "\n",
    "# II. The intersection between 2 cars go right, and 2 cars go in the same direction. \n",
    "# As C is a subset of D, this boils down to C again, \n",
    "# so $C \\cap D = C = {(L,R,R); (R,L,R); (R,R,L); (S,R,R); (R,S,R); (R,R,S)} $\n",
    "\n",
    "# III. The union between 2 cars go right, and 2 cars go in the same direction. \n",
    "# So the set we end up with is the set of 2 cars going in the same direction, \n",
    "# which boils down to D again. $C \\cup D = D = {(L,R,R); (R,L,R); (R,R,L); (S,R,R); \n",
    "# (R,S,R); (R,R,S);\\ (L,S,S); (S,L,S); (S,S,L); (R,S,S); (S,R,S); (S,S,R);\\ (S,L,L); \n",
    "# (L,S,L); (L,L,S); (R,L,L); (L,R,L); (L,L,R)}$"
   ]
  },
  {
   "cell_type": "markdown",
   "metadata": {},
   "source": [
    "## Optional Exercise: European Countries\n",
    "\n",
    "Use set operations to determine which European countries are not in the European Union. You just might have to clean the data first with pandas."
   ]
  },
  {
   "cell_type": "code",
   "execution_count": 35,
   "metadata": {},
   "outputs": [],
   "source": [
    "import pandas as pd\n",
    "\n",
    "#Load Europe and EU\n",
    "europe = pd.read_excel('Europe_and_EU.xlsx', sheet_name = 'Europe') \n",
    "eu = pd.read_excel('Europe_and_EU.xlsx', sheet_name = 'EU')\n",
    "\n",
    "#Use pandas to remove any whitespace from names\n",
    "europe.Country = europe.Country.map(lambda x: x.strip()) \n",
    "eu.Country = eu.Country.map(lambda x: x.strip())"
   ]
  },
  {
   "cell_type": "code",
   "execution_count": 38,
   "metadata": {},
   "outputs": [
    {
     "data": {
      "text/html": [
       "<div>\n",
       "<style scoped>\n",
       "    .dataframe tbody tr th:only-of-type {\n",
       "        vertical-align: middle;\n",
       "    }\n",
       "\n",
       "    .dataframe tbody tr th {\n",
       "        vertical-align: top;\n",
       "    }\n",
       "\n",
       "    .dataframe thead th {\n",
       "        text-align: right;\n",
       "    }\n",
       "</style>\n",
       "<table border=\"1\" class=\"dataframe\">\n",
       "  <thead>\n",
       "    <tr style=\"text-align: right;\">\n",
       "      <th></th>\n",
       "      <th>Rank</th>\n",
       "      <th>Country</th>\n",
       "      <th>Population</th>\n",
       "      <th>% of population</th>\n",
       "      <th>Average relative annual growth (%)</th>\n",
       "      <th>Average absolute annual growth</th>\n",
       "      <th>Estimated doubling time (Years)</th>\n",
       "      <th>Official figure (where available)</th>\n",
       "      <th>Date of last figure</th>\n",
       "      <th>Regional grouping</th>\n",
       "      <th>Source</th>\n",
       "    </tr>\n",
       "  </thead>\n",
       "  <tbody>\n",
       "    <tr>\n",
       "      <td>0</td>\n",
       "      <td>1.0</td>\n",
       "      <td>Russia</td>\n",
       "      <td>143964709</td>\n",
       "      <td>17.15</td>\n",
       "      <td>0.19</td>\n",
       "      <td>294285</td>\n",
       "      <td>368</td>\n",
       "      <td>146839993</td>\n",
       "      <td>2017-01-01 00:00:00</td>\n",
       "      <td>EAEU</td>\n",
       "      <td>[1]</td>\n",
       "    </tr>\n",
       "    <tr>\n",
       "      <td>1</td>\n",
       "      <td>2.0</td>\n",
       "      <td>Germany</td>\n",
       "      <td>82521653</td>\n",
       "      <td>9.80</td>\n",
       "      <td>1.20</td>\n",
       "      <td>600000</td>\n",
       "      <td>90</td>\n",
       "      <td>82800000</td>\n",
       "      <td>2016-12-31 00:00:00</td>\n",
       "      <td>EU</td>\n",
       "      <td>Official estimate</td>\n",
       "    </tr>\n",
       "    <tr>\n",
       "      <td>2</td>\n",
       "      <td>3.0</td>\n",
       "      <td>Turkey</td>\n",
       "      <td>80810000</td>\n",
       "      <td>9.60</td>\n",
       "      <td>1.34</td>\n",
       "      <td>1035000</td>\n",
       "      <td>52</td>\n",
       "      <td>77695904</td>\n",
       "      <td>2016-12-31 00:00:00</td>\n",
       "      <td>NaN</td>\n",
       "      <td>[2]</td>\n",
       "    </tr>\n",
       "  </tbody>\n",
       "</table>\n",
       "</div>"
      ],
      "text/plain": [
       "   Rank  Country  Population  % of population  \\\n",
       "0   1.0   Russia   143964709            17.15   \n",
       "1   2.0  Germany    82521653             9.80   \n",
       "2   3.0   Turkey    80810000             9.60   \n",
       "\n",
       "   Average relative annual growth (%)  Average absolute annual growth  \\\n",
       "0                                0.19                          294285   \n",
       "1                                1.20                          600000   \n",
       "2                                1.34                         1035000   \n",
       "\n",
       "  Estimated doubling time (Years)  Official figure (where available)  \\\n",
       "0                             368                          146839993   \n",
       "1                              90                           82800000   \n",
       "2                              52                           77695904   \n",
       "\n",
       "   Date of last figure Regional grouping             Source  \n",
       "0  2017-01-01 00:00:00             EAEU                 [1]  \n",
       "1  2016-12-31 00:00:00               EU   Official estimate  \n",
       "2  2016-12-31 00:00:00               NaN                [2]  "
      ]
     },
     "metadata": {},
     "output_type": "display_data"
    },
    {
     "data": {
      "text/html": [
       "<div>\n",
       "<style scoped>\n",
       "    .dataframe tbody tr th:only-of-type {\n",
       "        vertical-align: middle;\n",
       "    }\n",
       "\n",
       "    .dataframe tbody tr th {\n",
       "        vertical-align: top;\n",
       "    }\n",
       "\n",
       "    .dataframe thead th {\n",
       "        text-align: right;\n",
       "    }\n",
       "</style>\n",
       "<table border=\"1\" class=\"dataframe\">\n",
       "  <thead>\n",
       "    <tr style=\"text-align: right;\">\n",
       "      <th></th>\n",
       "      <th>Rank</th>\n",
       "      <th>Country</th>\n",
       "      <th>2017 population</th>\n",
       "      <th>% of pop.</th>\n",
       "      <th>Average relative annual growth</th>\n",
       "      <th>Average absolute annual growth</th>\n",
       "      <th>Official figure</th>\n",
       "      <th>Date of last figure</th>\n",
       "      <th>Source</th>\n",
       "    </tr>\n",
       "  </thead>\n",
       "  <tbody>\n",
       "    <tr>\n",
       "      <td>0</td>\n",
       "      <td>1</td>\n",
       "      <td>Germany</td>\n",
       "      <td>82800000</td>\n",
       "      <td>16.18</td>\n",
       "      <td>0.76</td>\n",
       "      <td>628876</td>\n",
       "      <td>82576900</td>\n",
       "      <td>2017-03-31</td>\n",
       "      <td>Official estimate</td>\n",
       "    </tr>\n",
       "    <tr>\n",
       "      <td>1</td>\n",
       "      <td>2</td>\n",
       "      <td>France</td>\n",
       "      <td>67210459</td>\n",
       "      <td>13.10</td>\n",
       "      <td>0.40</td>\n",
       "      <td>265557</td>\n",
       "      <td>67174000</td>\n",
       "      <td>2018-01-01</td>\n",
       "      <td>Monthly official estimate</td>\n",
       "    </tr>\n",
       "    <tr>\n",
       "      <td>2</td>\n",
       "      <td>3</td>\n",
       "      <td>United Kingdom</td>\n",
       "      <td>65808573</td>\n",
       "      <td>12.86</td>\n",
       "      <td>0.65</td>\n",
       "      <td>428793</td>\n",
       "      <td>65648100</td>\n",
       "      <td>2017-06-30</td>\n",
       "      <td>Official estimate</td>\n",
       "    </tr>\n",
       "  </tbody>\n",
       "</table>\n",
       "</div>"
      ],
      "text/plain": [
       "   Rank         Country  2017 population  % of pop.  \\\n",
       "0     1         Germany         82800000      16.18   \n",
       "1     2          France         67210459      13.10   \n",
       "2     3  United Kingdom         65808573      12.86   \n",
       "\n",
       "   Average relative annual growth  Average absolute annual growth  \\\n",
       "0                            0.76                          628876   \n",
       "1                            0.40                          265557   \n",
       "2                            0.65                          428793   \n",
       "\n",
       "   Official figure Date of last figure                     Source  \n",
       "0         82576900          2017-03-31          Official estimate  \n",
       "1         67174000          2018-01-01  Monthly official estimate  \n",
       "2         65648100          2017-06-30          Official estimate  "
      ]
     },
     "execution_count": 38,
     "metadata": {},
     "output_type": "execute_result"
    }
   ],
   "source": [
    "display(europe.head(3)) #preview dataframe\n",
    "eu.head(3)"
   ]
  },
  {
   "cell_type": "code",
   "execution_count": 39,
   "metadata": {},
   "outputs": [
    {
     "data": {
      "text/plain": [
       "True"
      ]
     },
     "execution_count": 39,
     "metadata": {},
     "output_type": "execute_result"
    }
   ],
   "source": [
    "# Your code comes here\n",
    "set(eu.Country) < set(europe.Country)"
   ]
  },
  {
   "cell_type": "code",
   "execution_count": 44,
   "metadata": {},
   "outputs": [
    {
     "data": {
      "text/plain": [
       "{'Albania',\n",
       " 'Andorra',\n",
       " 'Armenia',\n",
       " 'Azerbaijan',\n",
       " 'Belarus',\n",
       " 'Bosnia and Herzegovina',\n",
       " 'Faroe Islands (Denmark)',\n",
       " 'Georgia',\n",
       " 'Gibraltar (UK)',\n",
       " 'Guernsey (UK)',\n",
       " 'Iceland',\n",
       " 'Isle of Man (UK)',\n",
       " 'Jersey (UK)',\n",
       " 'Kosovo',\n",
       " 'Liechtenstein',\n",
       " 'Macedonia',\n",
       " 'Moldova',\n",
       " 'Monaco',\n",
       " 'Montenegro',\n",
       " 'Norway',\n",
       " 'Russia',\n",
       " 'San Marino',\n",
       " 'Serbia',\n",
       " 'Svalbard (Norway)',\n",
       " 'Switzerland',\n",
       " 'Turkey',\n",
       " 'Ukraine',\n",
       " 'Vatican City',\n",
       " 'Åland Islands (Finland)'}"
      ]
     },
     "execution_count": 44,
     "metadata": {},
     "output_type": "execute_result"
    }
   ],
   "source": [
    "EuroCountries_outsideEU = set(europe.Country) - set(eu.Country)\n",
    "EuroCountries_outsideEU"
   ]
  },
  {
   "cell_type": "code",
   "execution_count": 46,
   "metadata": {},
   "outputs": [
    {
     "data": {
      "text/html": [
       "<div>\n",
       "<style scoped>\n",
       "    .dataframe tbody tr th:only-of-type {\n",
       "        vertical-align: middle;\n",
       "    }\n",
       "\n",
       "    .dataframe tbody tr th {\n",
       "        vertical-align: top;\n",
       "    }\n",
       "\n",
       "    .dataframe thead th {\n",
       "        text-align: right;\n",
       "    }\n",
       "</style>\n",
       "<table border=\"1\" class=\"dataframe\">\n",
       "  <thead>\n",
       "    <tr style=\"text-align: right;\">\n",
       "      <th></th>\n",
       "      <th>Country</th>\n",
       "      <th>Rank</th>\n",
       "      <th>Population</th>\n",
       "      <th>% of population</th>\n",
       "      <th>Average relative annual growth (%)</th>\n",
       "      <th>Average absolute annual growth</th>\n",
       "      <th>Estimated doubling time (Years)</th>\n",
       "      <th>Official figure (where available)</th>\n",
       "      <th>Date of last figure</th>\n",
       "      <th>Regional grouping</th>\n",
       "      <th>Source</th>\n",
       "    </tr>\n",
       "  </thead>\n",
       "  <tbody>\n",
       "    <tr>\n",
       "      <td>0</td>\n",
       "      <td>Belarus</td>\n",
       "      <td>19.0</td>\n",
       "      <td>9452113</td>\n",
       "      <td>1.13</td>\n",
       "      <td>0.00</td>\n",
       "      <td>0</td>\n",
       "      <td>-</td>\n",
       "      <td>9481100</td>\n",
       "      <td>2015-04-01 00:00:00</td>\n",
       "      <td>EAEU</td>\n",
       "      <td>Official estimate</td>\n",
       "    </tr>\n",
       "    <tr>\n",
       "      <td>1</td>\n",
       "      <td>Iceland</td>\n",
       "      <td>44.0</td>\n",
       "      <td>331000</td>\n",
       "      <td>0.04</td>\n",
       "      <td>1.22</td>\n",
       "      <td>4000</td>\n",
       "      <td>57</td>\n",
       "      <td>329100</td>\n",
       "      <td>2015-01-01 00:00:00</td>\n",
       "      <td>EFTA</td>\n",
       "      <td>Official estimate</td>\n",
       "    </tr>\n",
       "    <tr>\n",
       "      <td>2</td>\n",
       "      <td>Isle of Man (UK)</td>\n",
       "      <td>NaN</td>\n",
       "      <td>89000</td>\n",
       "      <td>0.01</td>\n",
       "      <td>1.14</td>\n",
       "      <td>1000</td>\n",
       "      <td>61</td>\n",
       "      <td>84497</td>\n",
       "      <td>2011-03-27 00:00:00</td>\n",
       "      <td>NaN</td>\n",
       "      <td>2011 census result</td>\n",
       "    </tr>\n",
       "    <tr>\n",
       "      <td>3</td>\n",
       "      <td>Turkey</td>\n",
       "      <td>3.0</td>\n",
       "      <td>80810000</td>\n",
       "      <td>9.60</td>\n",
       "      <td>1.34</td>\n",
       "      <td>1035000</td>\n",
       "      <td>52</td>\n",
       "      <td>77695904</td>\n",
       "      <td>2016-12-31 00:00:00</td>\n",
       "      <td>NaN</td>\n",
       "      <td>[2]</td>\n",
       "    </tr>\n",
       "    <tr>\n",
       "      <td>4</td>\n",
       "      <td>Moldova</td>\n",
       "      <td>32.0</td>\n",
       "      <td>3564000</td>\n",
       "      <td>0.42</td>\n",
       "      <td>0.48</td>\n",
       "      <td>17000</td>\n",
       "      <td>145</td>\n",
       "      <td>3555200</td>\n",
       "      <td>2015-01-01 00:00:00</td>\n",
       "      <td>NaN</td>\n",
       "      <td>Official estimate</td>\n",
       "    </tr>\n",
       "    <tr>\n",
       "      <td>5</td>\n",
       "      <td>Kosovo</td>\n",
       "      <td>NaN</td>\n",
       "      <td>1867000</td>\n",
       "      <td>0.22</td>\n",
       "      <td>1.08</td>\n",
       "      <td>20000</td>\n",
       "      <td>64</td>\n",
       "      <td>1815606</td>\n",
       "      <td>2012-12-31 00:00:00</td>\n",
       "      <td>NaN</td>\n",
       "      <td>Official estimate</td>\n",
       "    </tr>\n",
       "    <tr>\n",
       "      <td>6</td>\n",
       "      <td>Bosnia and Herzegovina</td>\n",
       "      <td>30.0</td>\n",
       "      <td>3750000</td>\n",
       "      <td>0.45</td>\n",
       "      <td>-0.64</td>\n",
       "      <td>-24000</td>\n",
       "      <td>-</td>\n",
       "      <td>3791622</td>\n",
       "      <td>2013-10-01 00:00:00</td>\n",
       "      <td>NaN</td>\n",
       "      <td>Preliminary 2013 census result</td>\n",
       "    </tr>\n",
       "    <tr>\n",
       "      <td>7</td>\n",
       "      <td>Svalbard (Norway)</td>\n",
       "      <td>NaN</td>\n",
       "      <td>3000</td>\n",
       "      <td>0.00</td>\n",
       "      <td>0.00</td>\n",
       "      <td>0</td>\n",
       "      <td>-</td>\n",
       "      <td>2575</td>\n",
       "      <td>2014-07-01 00:00:00</td>\n",
       "      <td>EFTA</td>\n",
       "      <td>Official estimate</td>\n",
       "    </tr>\n",
       "    <tr>\n",
       "      <td>8</td>\n",
       "      <td>Monaco</td>\n",
       "      <td>47.0</td>\n",
       "      <td>37000</td>\n",
       "      <td>0.00</td>\n",
       "      <td>0.00</td>\n",
       "      <td>0</td>\n",
       "      <td>-</td>\n",
       "      <td>36950</td>\n",
       "      <td>2013-12-31 00:00:00</td>\n",
       "      <td>NaN</td>\n",
       "      <td>Official estimate</td>\n",
       "    </tr>\n",
       "    <tr>\n",
       "      <td>9</td>\n",
       "      <td>Ukraine</td>\n",
       "      <td>8.0</td>\n",
       "      <td>42895704</td>\n",
       "      <td>5.10</td>\n",
       "      <td>-0.32</td>\n",
       "      <td>-136000</td>\n",
       "      <td>-</td>\n",
       "      <td>42726067</td>\n",
       "      <td>2015-03-01 00:00:00</td>\n",
       "      <td>NaN</td>\n",
       "      <td>Monthly official estimate</td>\n",
       "    </tr>\n",
       "    <tr>\n",
       "      <td>10</td>\n",
       "      <td>Georgia</td>\n",
       "      <td>31.0</td>\n",
       "      <td>3707000</td>\n",
       "      <td>0.44</td>\n",
       "      <td>-1.23</td>\n",
       "      <td>-46000</td>\n",
       "      <td>-</td>\n",
       "      <td>3729500</td>\n",
       "      <td>2015-01-01 00:00:00</td>\n",
       "      <td>NaN</td>\n",
       "      <td>Official estimate</td>\n",
       "    </tr>\n",
       "    <tr>\n",
       "      <td>11</td>\n",
       "      <td>Albania</td>\n",
       "      <td>35.0</td>\n",
       "      <td>2887000</td>\n",
       "      <td>0.34</td>\n",
       "      <td>-0.41</td>\n",
       "      <td>-12000</td>\n",
       "      <td>-</td>\n",
       "      <td>2893005</td>\n",
       "      <td>2015-01-01 00:00:00</td>\n",
       "      <td>NaN</td>\n",
       "      <td>Official estimate</td>\n",
       "    </tr>\n",
       "    <tr>\n",
       "      <td>12</td>\n",
       "      <td>Russia</td>\n",
       "      <td>1.0</td>\n",
       "      <td>143964709</td>\n",
       "      <td>17.15</td>\n",
       "      <td>0.19</td>\n",
       "      <td>294285</td>\n",
       "      <td>368</td>\n",
       "      <td>146839993</td>\n",
       "      <td>2017-01-01 00:00:00</td>\n",
       "      <td>EAEU</td>\n",
       "      <td>[1]</td>\n",
       "    </tr>\n",
       "    <tr>\n",
       "      <td>13</td>\n",
       "      <td>Jersey (UK)</td>\n",
       "      <td>NaN</td>\n",
       "      <td>103000</td>\n",
       "      <td>0.01</td>\n",
       "      <td>0.98</td>\n",
       "      <td>1000</td>\n",
       "      <td>71</td>\n",
       "      <td>97857</td>\n",
       "      <td>2011-03-27 00:00:00</td>\n",
       "      <td>NaN</td>\n",
       "      <td>2011 census result</td>\n",
       "    </tr>\n",
       "    <tr>\n",
       "      <td>14</td>\n",
       "      <td>Vatican City</td>\n",
       "      <td>49.0</td>\n",
       "      <td>1000</td>\n",
       "      <td>0.00</td>\n",
       "      <td>0.00</td>\n",
       "      <td>0</td>\n",
       "      <td>-</td>\n",
       "      <td>0</td>\n",
       "      <td>2012</td>\n",
       "      <td>NaN</td>\n",
       "      <td>Official estimate</td>\n",
       "    </tr>\n",
       "    <tr>\n",
       "      <td>15</td>\n",
       "      <td>Gibraltar (UK)</td>\n",
       "      <td>NaN</td>\n",
       "      <td>34000</td>\n",
       "      <td>0.00</td>\n",
       "      <td>3.03</td>\n",
       "      <td>1000</td>\n",
       "      <td>23</td>\n",
       "      <td>30001</td>\n",
       "      <td>2012</td>\n",
       "      <td>EU</td>\n",
       "      <td>Official estimate</td>\n",
       "    </tr>\n",
       "    <tr>\n",
       "      <td>16</td>\n",
       "      <td>Guernsey (UK)</td>\n",
       "      <td>NaN</td>\n",
       "      <td>66000</td>\n",
       "      <td>0.01</td>\n",
       "      <td>1.54</td>\n",
       "      <td>1000</td>\n",
       "      <td>45</td>\n",
       "      <td>65150</td>\n",
       "      <td>2014-03-31 00:00:00</td>\n",
       "      <td>NaN</td>\n",
       "      <td>Official estimate</td>\n",
       "    </tr>\n",
       "    <tr>\n",
       "      <td>17</td>\n",
       "      <td>Azerbaijan</td>\n",
       "      <td>18.0</td>\n",
       "      <td>9923914</td>\n",
       "      <td>1.15</td>\n",
       "      <td>1.23</td>\n",
       "      <td>117000</td>\n",
       "      <td>57</td>\n",
       "      <td>9810000</td>\n",
       "      <td>2017-01-01 00:00:00</td>\n",
       "      <td>NaN</td>\n",
       "      <td>Official estimate</td>\n",
       "    </tr>\n",
       "    <tr>\n",
       "      <td>18</td>\n",
       "      <td>Faroe Islands (Denmark)</td>\n",
       "      <td>NaN</td>\n",
       "      <td>49000</td>\n",
       "      <td>0.01</td>\n",
       "      <td>0.00</td>\n",
       "      <td>0</td>\n",
       "      <td>-</td>\n",
       "      <td>48693</td>\n",
       "      <td>2015-02-01 00:00:00</td>\n",
       "      <td>NaN</td>\n",
       "      <td>Monthly official estimate</td>\n",
       "    </tr>\n",
       "    <tr>\n",
       "      <td>19</td>\n",
       "      <td>Norway</td>\n",
       "      <td>27.0</td>\n",
       "      <td>5194000</td>\n",
       "      <td>0.62</td>\n",
       "      <td>1.11</td>\n",
       "      <td>57000</td>\n",
       "      <td>63</td>\n",
       "      <td>5165802</td>\n",
       "      <td>2015-01-01 00:00:00</td>\n",
       "      <td>EFTA</td>\n",
       "      <td>Official estimate</td>\n",
       "    </tr>\n",
       "    <tr>\n",
       "      <td>20</td>\n",
       "      <td>Montenegro</td>\n",
       "      <td>41.0</td>\n",
       "      <td>620000</td>\n",
       "      <td>0.07</td>\n",
       "      <td>0.00</td>\n",
       "      <td>0</td>\n",
       "      <td>-</td>\n",
       "      <td>620029</td>\n",
       "      <td>2011-04-01 00:00:00</td>\n",
       "      <td>NaN</td>\n",
       "      <td>2011 census result</td>\n",
       "    </tr>\n",
       "    <tr>\n",
       "      <td>21</td>\n",
       "      <td>Liechtenstein</td>\n",
       "      <td>46.0</td>\n",
       "      <td>37000</td>\n",
       "      <td>0.00</td>\n",
       "      <td>0.00</td>\n",
       "      <td>0</td>\n",
       "      <td>-</td>\n",
       "      <td>37370</td>\n",
       "      <td>2014-12-31 00:00:00</td>\n",
       "      <td>EFTA</td>\n",
       "      <td>Official estimate</td>\n",
       "    </tr>\n",
       "    <tr>\n",
       "      <td>22</td>\n",
       "      <td>Switzerland</td>\n",
       "      <td>22.0</td>\n",
       "      <td>8544034</td>\n",
       "      <td>0.98</td>\n",
       "      <td>0.87</td>\n",
       "      <td>71000</td>\n",
       "      <td>80</td>\n",
       "      <td>8211700</td>\n",
       "      <td>2014-09-30 00:00:00</td>\n",
       "      <td>EFTA</td>\n",
       "      <td>Official estimate</td>\n",
       "    </tr>\n",
       "    <tr>\n",
       "      <td>23</td>\n",
       "      <td>Serbia</td>\n",
       "      <td>20.0</td>\n",
       "      <td>8762027</td>\n",
       "      <td>0.85</td>\n",
       "      <td>-0.41</td>\n",
       "      <td>-29000</td>\n",
       "      <td>-</td>\n",
       "      <td>7146759</td>\n",
       "      <td>2014-01-01 00:00:00</td>\n",
       "      <td>NaN</td>\n",
       "      <td>Official estimate</td>\n",
       "    </tr>\n",
       "    <tr>\n",
       "      <td>24</td>\n",
       "      <td>Macedonia</td>\n",
       "      <td>36.0</td>\n",
       "      <td>2071000</td>\n",
       "      <td>0.25</td>\n",
       "      <td>0.15</td>\n",
       "      <td>3000</td>\n",
       "      <td>478</td>\n",
       "      <td>2069172</td>\n",
       "      <td>2014-12-31 00:00:00</td>\n",
       "      <td>NaN</td>\n",
       "      <td>Official estimate</td>\n",
       "    </tr>\n",
       "    <tr>\n",
       "      <td>25</td>\n",
       "      <td>Armenia</td>\n",
       "      <td>33.0</td>\n",
       "      <td>3010000</td>\n",
       "      <td>0.36</td>\n",
       "      <td>-0.03</td>\n",
       "      <td>-1000</td>\n",
       "      <td>-</td>\n",
       "      <td>3010600</td>\n",
       "      <td>2014-12-31 00:00:00</td>\n",
       "      <td>EAEU</td>\n",
       "      <td>Monthly official estimate</td>\n",
       "    </tr>\n",
       "    <tr>\n",
       "      <td>26</td>\n",
       "      <td>Andorra</td>\n",
       "      <td>45.0</td>\n",
       "      <td>78000</td>\n",
       "      <td>0.01</td>\n",
       "      <td>1.30</td>\n",
       "      <td>1000</td>\n",
       "      <td>54</td>\n",
       "      <td>76949</td>\n",
       "      <td>2014</td>\n",
       "      <td>NaN</td>\n",
       "      <td>Official estimate</td>\n",
       "    </tr>\n",
       "    <tr>\n",
       "      <td>27</td>\n",
       "      <td>Åland Islands (Finland)</td>\n",
       "      <td>NaN</td>\n",
       "      <td>29000</td>\n",
       "      <td>0.00</td>\n",
       "      <td>0.00</td>\n",
       "      <td>0</td>\n",
       "      <td>-</td>\n",
       "      <td>28666</td>\n",
       "      <td>2013-12-31 00:00:00</td>\n",
       "      <td>EU</td>\n",
       "      <td>Official estimate</td>\n",
       "    </tr>\n",
       "    <tr>\n",
       "      <td>28</td>\n",
       "      <td>San Marino</td>\n",
       "      <td>48.0</td>\n",
       "      <td>33000</td>\n",
       "      <td>0.00</td>\n",
       "      <td>0.00</td>\n",
       "      <td>0</td>\n",
       "      <td>-</td>\n",
       "      <td>32798</td>\n",
       "      <td>2015-02-28 00:00:00</td>\n",
       "      <td>NaN</td>\n",
       "      <td>Monthly official estimate</td>\n",
       "    </tr>\n",
       "  </tbody>\n",
       "</table>\n",
       "</div>"
      ],
      "text/plain": [
       "                    Country  Rank  Population  % of population  \\\n",
       "0                   Belarus  19.0     9452113             1.13   \n",
       "1                   Iceland  44.0      331000             0.04   \n",
       "2          Isle of Man (UK)   NaN       89000             0.01   \n",
       "3                    Turkey   3.0    80810000             9.60   \n",
       "4                   Moldova  32.0     3564000             0.42   \n",
       "5                    Kosovo   NaN     1867000             0.22   \n",
       "6    Bosnia and Herzegovina  30.0     3750000             0.45   \n",
       "7         Svalbard (Norway)   NaN        3000             0.00   \n",
       "8                    Monaco  47.0       37000             0.00   \n",
       "9                   Ukraine   8.0    42895704             5.10   \n",
       "10                  Georgia  31.0     3707000             0.44   \n",
       "11                  Albania  35.0     2887000             0.34   \n",
       "12                   Russia   1.0   143964709            17.15   \n",
       "13              Jersey (UK)   NaN      103000             0.01   \n",
       "14             Vatican City  49.0        1000             0.00   \n",
       "15           Gibraltar (UK)   NaN       34000             0.00   \n",
       "16            Guernsey (UK)   NaN       66000             0.01   \n",
       "17               Azerbaijan  18.0     9923914             1.15   \n",
       "18  Faroe Islands (Denmark)   NaN       49000             0.01   \n",
       "19                   Norway  27.0     5194000             0.62   \n",
       "20               Montenegro  41.0      620000             0.07   \n",
       "21            Liechtenstein  46.0       37000             0.00   \n",
       "22              Switzerland  22.0     8544034             0.98   \n",
       "23                   Serbia  20.0     8762027             0.85   \n",
       "24                Macedonia  36.0     2071000             0.25   \n",
       "25                  Armenia  33.0     3010000             0.36   \n",
       "26                  Andorra  45.0       78000             0.01   \n",
       "27  Åland Islands (Finland)   NaN       29000             0.00   \n",
       "28               San Marino  48.0       33000             0.00   \n",
       "\n",
       "    Average relative annual growth (%)  Average absolute annual growth  \\\n",
       "0                                 0.00                               0   \n",
       "1                                 1.22                            4000   \n",
       "2                                 1.14                            1000   \n",
       "3                                 1.34                         1035000   \n",
       "4                                 0.48                           17000   \n",
       "5                                 1.08                           20000   \n",
       "6                                -0.64                          -24000   \n",
       "7                                 0.00                               0   \n",
       "8                                 0.00                               0   \n",
       "9                                -0.32                         -136000   \n",
       "10                               -1.23                          -46000   \n",
       "11                               -0.41                          -12000   \n",
       "12                                0.19                          294285   \n",
       "13                                0.98                            1000   \n",
       "14                                0.00                               0   \n",
       "15                                3.03                            1000   \n",
       "16                                1.54                            1000   \n",
       "17                                1.23                          117000   \n",
       "18                                0.00                               0   \n",
       "19                                1.11                           57000   \n",
       "20                                0.00                               0   \n",
       "21                                0.00                               0   \n",
       "22                                0.87                           71000   \n",
       "23                               -0.41                          -29000   \n",
       "24                                0.15                            3000   \n",
       "25                               -0.03                           -1000   \n",
       "26                                1.30                            1000   \n",
       "27                                0.00                               0   \n",
       "28                                0.00                               0   \n",
       "\n",
       "   Estimated doubling time (Years)  Official figure (where available)  \\\n",
       "0                               -                             9481100   \n",
       "1                               57                             329100   \n",
       "2                               61                              84497   \n",
       "3                               52                           77695904   \n",
       "4                              145                            3555200   \n",
       "5                               64                            1815606   \n",
       "6                               -                             3791622   \n",
       "7                               -                                2575   \n",
       "8                               -                               36950   \n",
       "9                               -                            42726067   \n",
       "10                              -                             3729500   \n",
       "11                              -                             2893005   \n",
       "12                             368                          146839993   \n",
       "13                              71                              97857   \n",
       "14                              -                                   0   \n",
       "15                              23                              30001   \n",
       "16                              45                              65150   \n",
       "17                              57                            9810000   \n",
       "18                              -                               48693   \n",
       "19                              63                            5165802   \n",
       "20                              -                              620029   \n",
       "21                              -                               37370   \n",
       "22                              80                            8211700   \n",
       "23                              -                             7146759   \n",
       "24                             478                            2069172   \n",
       "25                              -                             3010600   \n",
       "26                              54                              76949   \n",
       "27                              -                               28666   \n",
       "28                              -                               32798   \n",
       "\n",
       "    Date of last figure Regional grouping                          Source  \n",
       "0   2015-04-01 00:00:00             EAEU                Official estimate  \n",
       "1   2015-01-01 00:00:00             EFTA                Official estimate  \n",
       "2   2011-03-27 00:00:00               NaN              2011 census result  \n",
       "3   2016-12-31 00:00:00               NaN                             [2]  \n",
       "4   2015-01-01 00:00:00               NaN               Official estimate  \n",
       "5   2012-12-31 00:00:00               NaN               Official estimate  \n",
       "6   2013-10-01 00:00:00               NaN  Preliminary 2013 census result  \n",
       "7   2014-07-01 00:00:00             EFTA                Official estimate  \n",
       "8   2013-12-31 00:00:00               NaN               Official estimate  \n",
       "9   2015-03-01 00:00:00               NaN       Monthly official estimate  \n",
       "10  2015-01-01 00:00:00               NaN               Official estimate  \n",
       "11  2015-01-01 00:00:00               NaN               Official estimate  \n",
       "12  2017-01-01 00:00:00             EAEU                              [1]  \n",
       "13  2011-03-27 00:00:00               NaN              2011 census result  \n",
       "14                 2012               NaN               Official estimate  \n",
       "15                 2012               EU                Official estimate  \n",
       "16  2014-03-31 00:00:00               NaN               Official estimate  \n",
       "17  2017-01-01 00:00:00               NaN               Official estimate  \n",
       "18  2015-02-01 00:00:00               NaN       Monthly official estimate  \n",
       "19  2015-01-01 00:00:00             EFTA                Official estimate  \n",
       "20  2011-04-01 00:00:00               NaN              2011 census result  \n",
       "21  2014-12-31 00:00:00             EFTA                Official estimate  \n",
       "22  2014-09-30 00:00:00             EFTA                Official estimate  \n",
       "23  2014-01-01 00:00:00               NaN               Official estimate  \n",
       "24  2014-12-31 00:00:00               NaN               Official estimate  \n",
       "25  2014-12-31 00:00:00             EAEU        Monthly official estimate  \n",
       "26                 2014               NaN               Official estimate  \n",
       "27  2013-12-31 00:00:00               EU                Official estimate  \n",
       "28  2015-02-28 00:00:00               NaN       Monthly official estimate  "
      ]
     },
     "execution_count": 46,
     "metadata": {},
     "output_type": "execute_result"
    }
   ],
   "source": [
    "## Dataframe of \n",
    "EuroCountries_outsideEU_df = pd.DataFrame(EuroCountries_outsideEU, columns =['Country'])\n",
    "EuroCountries_outsideEU_df.set_index('Country', inplace=True)\n",
    "EuroCountries_outsideEU_df = EuroCountries_outsideEU_df.merge(europe, on = 'Country')\n",
    "EuroCountries_outsideEU_df"
   ]
  },
  {
   "cell_type": "markdown",
   "metadata": {},
   "source": [
    "## Summary"
   ]
  },
  {
   "cell_type": "markdown",
   "metadata": {},
   "source": [
    "In this lab, you practiced your knowledge on sets, such as common set operations, the use of Venn Diagrams, the inclusion exclusion principle, and how to use sets in Python! "
   ]
  }
 ],
 "metadata": {
  "kernelspec": {
   "display_name": "Python 3",
   "language": "python",
   "name": "python3"
  },
  "language_info": {
   "codemirror_mode": {
    "name": "ipython",
    "version": 3
   },
   "file_extension": ".py",
   "mimetype": "text/x-python",
   "name": "python",
   "nbconvert_exporter": "python",
   "pygments_lexer": "ipython3",
   "version": "3.6.9"
  },
  "toc": {
   "base_numbering": 1,
   "nav_menu": {},
   "number_sections": true,
   "sideBar": true,
   "skip_h1_title": false,
   "title_cell": "Table of Contents",
   "title_sidebar": "Contents",
   "toc_cell": false,
   "toc_position": {},
   "toc_section_display": true,
   "toc_window_display": false
  }
 },
 "nbformat": 4,
 "nbformat_minor": 2
}
